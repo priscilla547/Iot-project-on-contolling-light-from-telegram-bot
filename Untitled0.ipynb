{
  "nbformat": 4,
  "nbformat_minor": 0,
  "metadata": {
    "colab": {
      "name": "Untitled0.ipynb",
      "provenance": []
    },
    "kernelspec": {
      "name": "python3",
      "display_name": "Python 3"
    }
  },
  "cells": [
    {
      "cell_type": "code",
      "metadata": {
        "id": "-x6wgkBFYnDS",
        "outputId": "3915793e-1c93-4cea-c488-f7a036486ccd",
        "colab": {
          "base_uri": "https://localhost:8080/",
          "height": 605
        }
      },
      "source": [
        "!pip install python-telegram-bot\n",
        "!pip install adafruit-io\n",
        "from telegram.ext import Updater,CommandHandler,MessageHandler,Filters\n",
        "from Adafruit_IO import Client,Data\n",
        "import os\n",
        "\n",
        "def turnoffthelight(update, context):\n",
        "  context.bot.send_message(chat_id=update.effective_chat.id, text=\"Bulb turned off\")\n",
        "  context.bot.send_photo(chat_id=update.effective_chat.id,photo='https://images.app.goo.gl/SLw9KoyLmVrecKYE8')\n",
        "  send_value(0)\n",
        "def turnonthelight(update, context):\n",
        "  context.bot.send_message(chat_id=update.effective_chat.id, text=\"Bulb turned on\")\n",
        "  context.bot.send_photo(chat_id=update.effective_chat.id,photo='https://images.app.goo.gl/CjF4N93S951ThEK49')\n",
        "  send_value(1)\n",
        "\n",
        "def send_value(value):\n",
        "  feed = aio.feeds('Project')\n",
        "  aio.send_data(feed.key,value)\n",
        "\n",
        "def input_message(update, context):\n",
        "  text=update.message.text\n",
        "  if text == 'turnonthelight':\n",
        "    send_value(1)\n",
        "    context.bot.send_message(chat_id=update.effective_chat.id,text=\"Bulb turned on\")\n",
        "    context.bot.send_photo(chat_id=update.effective_chat.id,photo='https://images.app.goo.gl/CjF4N93S951ThEK49')\n",
        "    send_value(0)\n",
        "    context.bot.send_message(chat_id=update.effective_chat.id,text=\"Bulb turned off\")\n",
        "    context.bot.send_photo(chat_id=update.effective_chat.id,photo='https://images.app.goo.gl/SLw9KoyLmVrecKYE8')\n",
        "\n",
        "def start(update,context):\n",
        "  start_message='''\n",
        "/turnoff the light or 'turn off':To turn off the bulb ,sends value=0 in feed\n",
        "/turnon the light or 'turn on'  :To turn on the bulb ,sends value=1 in feed\n",
        "'''\n",
        "  context.bot.send_message(chat_id=update.effective_chat.id, text=start_message)\n",
        "\n",
        "ADAFRUIT_IO_USERNAME =  os.getenv('URK19EC1064')\n",
        "ADAFRUIT_IO_KEY = os.getenv('aio_dQfv42RK0IiLLYs8RfRLCK5LOppL')\n",
        "TOKEN = os.getenv('1192265925:AAHHS_2nNbuMhfb5YrtCFrmJumWqCmIyrzQ')\n",
        "\n",
        "aio = Client('URK19EC1064','aio_dQfv42RK0IiLLYs8RfRLCK5LOppL')\n",
        "updater=Updater('1192265925:AAHHS_2nNbuMhfb5YrtCFrmJumWqCmIyrzQ',use_context=True)\n",
        "dispatcher = updater.dispatcher\n",
        "dispatcher.add_handler(CommandHandler('turnoffthelight',turnoffthelight))\n",
        "dispatcher.add_handler(CommandHandler('turnonthelight',turnonthelight))\n",
        "dispatcher.add_handler(CommandHandler('start',start))\n",
        "dispatcher.add_handler(MessageHandler(Filters.text & (~Filters.command),input_message))\n",
        "updater.start_polling()\n",
        "updater.idle()"
      ],
      "execution_count": null,
      "outputs": [
        {
          "output_type": "stream",
          "text": [
            "Collecting python-telegram-bot\n",
            "\u001b[?25l  Downloading https://files.pythonhosted.org/packages/a6/2d/c72fc9a28144277f6170f2fcbfd3bd9427943497522b2689846596eb86cf/python_telegram_bot-12.8-py2.py3-none-any.whl (375kB)\n",
            "\u001b[K     |████████████████████████████████| 378kB 2.8MB/s \n",
            "\u001b[?25hCollecting cryptography\n",
            "\u001b[?25l  Downloading https://files.pythonhosted.org/packages/33/62/30f6936941d87a5ed72efb24249437824f6b2c953901245b58c91fde2f27/cryptography-3.1.1-cp35-abi3-manylinux2010_x86_64.whl (2.6MB)\n",
            "\u001b[K     |████████████████████████████████| 2.6MB 12.2MB/s \n",
            "\u001b[?25hRequirement already satisfied: decorator>=4.4.0 in /usr/local/lib/python3.6/dist-packages (from python-telegram-bot) (4.4.2)\n",
            "Requirement already satisfied: certifi in /usr/local/lib/python3.6/dist-packages (from python-telegram-bot) (2020.6.20)\n",
            "Requirement already satisfied: tornado>=5.1 in /usr/local/lib/python3.6/dist-packages (from python-telegram-bot) (5.1.1)\n",
            "Requirement already satisfied: cffi!=1.11.3,>=1.8 in /usr/local/lib/python3.6/dist-packages (from cryptography->python-telegram-bot) (1.14.3)\n",
            "Requirement already satisfied: six>=1.4.1 in /usr/local/lib/python3.6/dist-packages (from cryptography->python-telegram-bot) (1.15.0)\n",
            "Requirement already satisfied: pycparser in /usr/local/lib/python3.6/dist-packages (from cffi!=1.11.3,>=1.8->cryptography->python-telegram-bot) (2.20)\n",
            "Installing collected packages: cryptography, python-telegram-bot\n",
            "Successfully installed cryptography-3.1.1 python-telegram-bot-12.8\n",
            "Collecting adafruit-io\n",
            "\u001b[?25l  Downloading https://files.pythonhosted.org/packages/ea/0b/5f2b24a13d283f3b523f6878b571a41618072c9af72a0f66f49745c4485b/adafruit-io-2.4.0.tar.gz (50kB)\n",
            "\u001b[K     |████████████████████████████████| 51kB 1.6MB/s \n",
            "\u001b[?25hRequirement already satisfied: requests in /usr/local/lib/python3.6/dist-packages (from adafruit-io) (2.23.0)\n",
            "Collecting paho-mqtt\n",
            "\u001b[?25l  Downloading https://files.pythonhosted.org/packages/32/d3/6dcb8fd14746fcde6a556f932b5de8bea8fedcb85b3a092e0e986372c0e7/paho-mqtt-1.5.1.tar.gz (101kB)\n",
            "\u001b[K     |████████████████████████████████| 102kB 4.1MB/s \n",
            "\u001b[?25hRequirement already satisfied: idna<3,>=2.5 in /usr/local/lib/python3.6/dist-packages (from requests->adafruit-io) (2.10)\n",
            "Requirement already satisfied: chardet<4,>=3.0.2 in /usr/local/lib/python3.6/dist-packages (from requests->adafruit-io) (3.0.4)\n",
            "Requirement already satisfied: certifi>=2017.4.17 in /usr/local/lib/python3.6/dist-packages (from requests->adafruit-io) (2020.6.20)\n",
            "Requirement already satisfied: urllib3!=1.25.0,!=1.25.1,<1.26,>=1.21.1 in /usr/local/lib/python3.6/dist-packages (from requests->adafruit-io) (1.24.3)\n",
            "Building wheels for collected packages: adafruit-io, paho-mqtt\n",
            "  Building wheel for adafruit-io (setup.py) ... \u001b[?25l\u001b[?25hdone\n",
            "  Created wheel for adafruit-io: filename=adafruit_io-2.4.0-cp36-none-any.whl size=20656 sha256=956b5c37ef3bf94dfda4f9e8366b9d5a74c6962a3f82a6fb4eb90b4aca8aac46\n",
            "  Stored in directory: /root/.cache/pip/wheels/05/e7/46/cd3dced11f962217204288f5faee41e56fbad8f7201f510619\n",
            "  Building wheel for paho-mqtt (setup.py) ... \u001b[?25l\u001b[?25hdone\n",
            "  Created wheel for paho-mqtt: filename=paho_mqtt-1.5.1-cp36-none-any.whl size=61544 sha256=a4d142fa25ad3352e4b1d7c2fa5d2969a9a7df7eb70b1f27edca5a024d007175\n",
            "  Stored in directory: /root/.cache/pip/wheels/75/e2/f5/78942b19b4d135605e58dfe85fba52253b14d636aabf76904b\n",
            "Successfully built adafruit-io paho-mqtt\n",
            "Installing collected packages: paho-mqtt, adafruit-io\n",
            "Successfully installed adafruit-io-2.4.0 paho-mqtt-1.5.1\n"
          ],
          "name": "stdout"
        }
      ]
    }
  ]
}